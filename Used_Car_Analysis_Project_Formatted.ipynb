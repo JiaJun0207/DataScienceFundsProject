{
 "cells": [
  {
   "cell_type": "markdown",
   "id": "8c962dbb",
   "metadata": {},
   "source": [
    "## Q1: Do cars with higher prices tend to have a higher service history?"
   ]
  },
  {
   "cell_type": "markdown",
   "id": "deddee2e",
   "metadata": {},
   "source": [
    "### 🔧 Data Pre-processing / Cleaning (Q1)"
   ]
  },
  {
   "cell_type": "code",
   "execution_count": null,
   "id": "782e0f70",
   "metadata": {},
   "outputs": [],
   "source": [
    "\n",
    "import pandas as pd\n",
    "import matplotlib.pyplot as plt\n",
    "import seaborn as sns\n",
    "from scipy.stats import f_oneway\n",
    "\n",
    "# Load dataset\n",
    "df = pd.read_csv('used_car_price_dataset_extended.csv')\n",
    "\n",
    "# Preprocessing\n",
    "df['service_history'] = df['service_history'].str.strip().str.title()\n",
    "df_q1 = df[['price_usd', 'service_history']].dropna()\n",
    "\n",
    "# Bar plot of average price by service history\n",
    "avg_price_by_history = df_q1.groupby('service_history')['price_usd'].mean().sort_values(ascending=False)\n",
    "plt.figure(figsize=(8, 5))\n",
    "sns.barplot(x=avg_price_by_history.index, y=avg_price_by_history.values)\n",
    "plt.title(\"Average Car Price by Service History\")\n",
    "plt.ylabel(\"Average Price (USD)\")\n",
    "plt.xlabel(\"Service History\")\n",
    "plt.tight_layout()\n",
    "plt.show()\n",
    "\n",
    "# Box plot of price distribution\n",
    "plt.figure(figsize=(8, 5))\n",
    "sns.boxplot(data=df_q1, x='service_history', y='price_usd')\n",
    "plt.title(\"Price Distribution by Service History\")\n",
    "plt.ylabel(\"Price (USD)\")\n",
    "plt.xlabel(\"Service History\")\n",
    "plt.tight_layout()\n",
    "plt.show()\n",
    "\n",
    "# ANOVA test\n",
    "group_full = df_q1[df_q1['service_history'] == 'Full']['price_usd']\n",
    "group_partial = df_q1[df_q1['service_history'] == 'Partial']['price_usd']\n",
    "group_none = df_q1[df_q1['service_history'] == 'None']['price_usd']\n",
    "from scipy.stats import f_oneway\n",
    "anova_result = f_oneway(group_full, group_partial, group_none)\n",
    "anova_result\n"
   ]
  },
  {
   "cell_type": "markdown",
   "id": "c73a97a1",
   "metadata": {},
   "source": [
    "### 📊 Data Analysis / Statistical Study (Q1)"
   ]
  },
  {
   "cell_type": "markdown",
   "id": "23dd1222",
   "metadata": {},
   "source": [
    "## Q2: How has engine capacity changed over time?"
   ]
  },
  {
   "cell_type": "markdown",
   "id": "e192746d",
   "metadata": {},
   "source": [
    "### 🚫 Modelling (Q1) - Not Applicable"
   ]
  },
  {
   "cell_type": "markdown",
   "id": "a23583c8",
   "metadata": {},
   "source": [
    "### 🔧 Data Pre-processing / Cleaning (Q2)"
   ]
  },
  {
   "cell_type": "markdown",
   "id": "6fb1824c",
   "metadata": {},
   "source": [
    "### 🧠 Evaluation (Q1)"
   ]
  },
  {
   "cell_type": "markdown",
   "id": "e0dcd62b",
   "metadata": {},
   "source": [
    "### 📊 Data Analysis / Statistical Study (Q2)"
   ]
  },
  {
   "cell_type": "code",
   "execution_count": null,
   "id": "3451b3c4",
   "metadata": {},
   "outputs": [],
   "source": [
    "\n",
    "# Preprocessing\n",
    "df_q2 = df[['make_year', 'engine_cc']].dropna()\n",
    "df_q2['make_year'] = df_q2['make_year'].astype(int)\n",
    "\n",
    "# Line plot of average engine cc by year\n",
    "avg_engine_cc_by_year = df_q2.groupby('make_year')['engine_cc'].mean()\n",
    "plt.figure(figsize=(10, 6))\n",
    "sns.lineplot(x=avg_engine_cc_by_year.index, y=avg_engine_cc_by_year.values, marker='o')\n",
    "plt.title(\"Average Engine Capacity Over Years\")\n",
    "plt.xlabel(\"Make Year\")\n",
    "plt.ylabel(\"Average Engine Capacity (cc)\")\n",
    "plt.grid(True)\n",
    "plt.tight_layout()\n",
    "plt.show()\n",
    "\n",
    "# Linear regression\n",
    "from scipy.stats import linregress\n",
    "slope, intercept, r_value, p_value, std_err = linregress(avg_engine_cc_by_year.index, avg_engine_cc_by_year.values)\n",
    "{\n",
    "    \"Slope\": round(slope, 4),\n",
    "    \"Intercept\": round(intercept, 2),\n",
    "    \"R-squared\": round(r_value**2, 4),\n",
    "    \"p-value\": round(p_value, 4)\n",
    "}\n"
   ]
  },
  {
   "cell_type": "markdown",
   "id": "ec0f13cd",
   "metadata": {},
   "source": [
    "### 🔧 Data Pre-processing / Cleaning (Q3)"
   ]
  },
  {
   "cell_type": "markdown",
   "id": "718555d6",
   "metadata": {},
   "source": [
    "### 🚫 Modelling (Q2) - Not Applicable"
   ]
  },
  {
   "cell_type": "markdown",
   "id": "0832c145",
   "metadata": {},
   "source": [
    "### 📊 Data Analysis / Statistical Study (Q3)"
   ]
  },
  {
   "cell_type": "markdown",
   "id": "075860e7",
   "metadata": {},
   "source": [
    "### 🧠 Evaluation (Q2)"
   ]
  },
  {
   "cell_type": "markdown",
   "id": "d76317a7",
   "metadata": {},
   "source": [
    "### 🔧 Data Pre-processing / Cleaning (Q4)"
   ]
  },
  {
   "cell_type": "markdown",
   "id": "a3f0e9b6",
   "metadata": {},
   "source": [
    "### 🚫 Modelling (Q3) - See Bonus Section"
   ]
  },
  {
   "cell_type": "markdown",
   "id": "514fc305",
   "metadata": {},
   "source": [
    "### 📊 Data Analysis / Statistical Study (Q4)"
   ]
  },
  {
   "cell_type": "markdown",
   "id": "6a1a5a77",
   "metadata": {},
   "source": [
    "### 🧠 Evaluation (Q3)"
   ]
  },
  {
   "cell_type": "markdown",
   "id": "9dbd9b62",
   "metadata": {},
   "source": [
    "### 🔧 Data Pre-processing / Cleaning (Bonus Modeling)"
   ]
  },
  {
   "cell_type": "markdown",
   "id": "274c1db9",
   "metadata": {},
   "source": [
    "### 🚫 Modelling (Q4) - Not Applicable"
   ]
  },
  {
   "cell_type": "markdown",
   "id": "d0fa9966",
   "metadata": {},
   "source": [
    "### 📊 Data Analysis / Feature Engineering (Bonus Modeling)"
   ]
  },
  {
   "cell_type": "markdown",
   "id": "a3730b2b",
   "metadata": {},
   "source": [
    "### 🧠 Evaluation (Q4)"
   ]
  },
  {
   "cell_type": "markdown",
   "id": "d515e966",
   "metadata": {},
   "source": [
    "### 🤖 Modelling (Bonus Modeling)"
   ]
  },
  {
   "cell_type": "markdown",
   "id": "fb41e88b",
   "metadata": {},
   "source": [
    "## Q3: Are certain car colors more frequently associated with accident reports?"
   ]
  },
  {
   "cell_type": "markdown",
   "id": "2a94957f",
   "metadata": {},
   "source": [
    "### 🧠 Evaluation (Bonus Modeling)"
   ]
  },
  {
   "cell_type": "code",
   "execution_count": null,
   "id": "1464ce5f",
   "metadata": {},
   "outputs": [],
   "source": [
    "\n",
    "# Preprocessing\n",
    "df_q3 = df[['color', 'accidents_reported']].dropna()\n",
    "df_q3['color'] = df_q3['color'].str.strip().str.title()\n",
    "\n",
    "# Bar plot of average accidents by color\n",
    "accident_by_color = df_q3.groupby('color')['accidents_reported'].mean().sort_values(ascending=False)\n",
    "plt.figure(figsize=(10, 6))\n",
    "sns.barplot(x=accident_by_color.values, y=accident_by_color.index)\n",
    "plt.title(\"Average Number of Accidents Reported by Car Color\")\n",
    "plt.xlabel(\"Average Accidents Reported\")\n",
    "plt.ylabel(\"Car Color\")\n",
    "plt.tight_layout()\n",
    "plt.show()\n",
    "\n",
    "# Chi-square test\n",
    "df_q3['accident_flag'] = df_q3['accidents_reported'].apply(lambda x: 'None' if x == 0 else 'Has Accident')\n",
    "contingency_table = pd.crosstab(df_q3['color'], df_q3['accident_flag'])\n",
    "from scipy.stats import chi2_contingency\n",
    "chi2_stat, p_val, dof, expected = chi2_contingency(contingency_table)\n",
    "{\n",
    "    \"Chi2 Statistic\": round(chi2_stat, 4),\n",
    "    \"Degrees of Freedom\": dof,\n",
    "    \"p-value\": round(p_val, 4)\n",
    "}\n"
   ]
  },
  {
   "cell_type": "markdown",
   "id": "0d3fd068",
   "metadata": {},
   "source": [
    "## Q4: Do older economy cars tend to have more owners than high-end cars?"
   ]
  },
  {
   "cell_type": "code",
   "execution_count": null,
   "id": "4ea7d651",
   "metadata": {},
   "outputs": [],
   "source": [
    "\n",
    "# Brand categorization\n",
    "economy_brands = ['Toyota', 'Honda', 'Hyundai', 'Nissan', 'Kia']\n",
    "highend_brands = ['BMW', 'Mercedes-Benz', 'Audi', 'Lexus', 'Porsche']\n",
    "\n",
    "df_q4 = df[['make_year', 'owner_count', 'brand']].dropna()\n",
    "df_q4['brand'] = df_q4['brand'].str.strip().str.title()\n",
    "df_q4['brand_category'] = df_q4['brand'].apply(\n",
    "    lambda x: 'Economy' if x in economy_brands else ('High-End' if x in highend_brands else 'Other')\n",
    ")\n",
    "df_q4_filtered = df_q4[df_q4['brand_category'].isin(['Economy', 'High-End'])]\n",
    "\n",
    "# Line plot of average owner count over years\n",
    "plt.figure(figsize=(10, 6))\n",
    "sns.lineplot(data=df_q4_filtered, x='make_year', y='owner_count', hue='brand_category', estimator='mean')\n",
    "plt.title(\"Average Owner Count by Car Year and Brand Category\")\n",
    "plt.xlabel(\"Make Year\")\n",
    "plt.ylabel(\"Average Owner Count\")\n",
    "plt.tight_layout()\n",
    "plt.show()\n"
   ]
  },
  {
   "cell_type": "markdown",
   "id": "bc26bd9c",
   "metadata": {},
   "source": [
    "## Bonus Modeling: Predicting Accidents Using Logistic Regression"
   ]
  },
  {
   "cell_type": "code",
   "execution_count": null,
   "id": "4c89b321",
   "metadata": {},
   "outputs": [],
   "source": [
    "\n",
    "from sklearn.model_selection import train_test_split\n",
    "from sklearn.preprocessing import OneHotEncoder\n",
    "from sklearn.linear_model import LogisticRegression\n",
    "from sklearn.metrics import classification_report, confusion_matrix, ConfusionMatrixDisplay\n",
    "\n",
    "# Modeling preparation\n",
    "features = ['color', 'brand', 'make_year', 'transmission']\n",
    "target = 'accidents_reported'\n",
    "\n",
    "df_model = df[features + [target]].dropna()\n",
    "df_model['has_accident'] = df_model['accidents_reported'].apply(lambda x: 0 if x == 0 else 1)\n",
    "\n",
    "# One-hot encoding\n",
    "categorical_cols = ['color', 'brand', 'transmission']\n",
    "encoder = OneHotEncoder(handle_unknown='ignore', sparse=False)\n",
    "encoded_cats = encoder.fit_transform(df_model[categorical_cols])\n",
    "X = pd.DataFrame(encoded_cats, columns=encoder.get_feature_names_out(categorical_cols))\n",
    "X['make_year'] = df_model['make_year'].astype(int)\n",
    "y = df_model['has_accident']\n",
    "\n",
    "# Split and model\n",
    "X_train, X_test, y_train, y_test = train_test_split(X, y, test_size=0.3, random_state=42)\n",
    "model = LogisticRegression(max_iter=1000)\n",
    "model.fit(X_train, y_train)\n",
    "y_pred = model.predict(X_test)\n",
    "\n",
    "# Evaluation\n",
    "report = classification_report(y_test, y_pred, output_dict=True)\n",
    "conf_matrix = confusion_matrix(y_test, y_pred)\n",
    "disp = ConfusionMatrixDisplay(confusion_matrix=conf_matrix, display_labels=[\"No Accident\", \"Has Accident\"])\n",
    "disp.plot(cmap='Blues')\n",
    "plt.title(\"Confusion Matrix - Accident Prediction\")\n",
    "plt.tight_layout()\n",
    "plt.show()\n",
    "report\n"
   ]
  }
 ],
 "metadata": {},
 "nbformat": 4,
 "nbformat_minor": 5
}
