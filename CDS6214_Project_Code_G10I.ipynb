{
 "cells": [
  {
   "cell_type": "markdown",
   "id": "7aebbd5e",
   "metadata": {},
   "source": [
    "# CDS6214-DATA SCIENCE FUNDAMENTALS Project TT10L Group I"
   ]
  },
  {
   "cell_type": "markdown",
   "id": "43771a8f",
   "metadata": {},
   "source": [
    "# Transportation Project <br>\n",
    "Title : Used Car Price Prediction\n"
   ]
  },
  {
   "cell_type": "markdown",
   "id": "acba8217",
   "metadata": {},
   "source": [
    "#### Group I\n",
    "\n",
    "**Tutorial section: TT10_L**\n",
    "\n",
    "\n",
    "| | Student ID     | Student Name                | Contribution | \n",
    "|--:|:-------------|:----------------------------|-------------:|\n",
    "| 1 | 242UC24511   | Chan Jia Jun                | 33%          | \n",
    "| 2 | 242UC24513   | Chen Yong Qi                | 30%          | \n",
    "| 3 | 242UC24515   | Tong Jian Hao               | 37%          | \n"
   ]
  },
  {
   "cell_type": "markdown",
   "id": "ba4017b9",
   "metadata": {},
   "source": [
    "# **Objective**\n",
    "1. Data Pre-processing / Cleaning\n",
    "2. Data Analysis/Statistical Study\n",
    "3. Modelling (RandomForest)  \n",
    "4. Knowledge Evaluation"
   ]
  },
  {
   "cell_type": "markdown",
   "id": "b3ea313b",
   "metadata": {},
   "source": [
    "# Exploratory Questions\n",
    "Here are the four exploratory questions questions that we address in our project Exploratory Data Analysis:\n",
    "1. **Q1:** How do service history and mileage efficiency affect used car prices?\n",
    "2. **Q2:** How can manufacturers or resellers adapt to the trend of engine sizes in recent years to better match consumer demand?\n",
    "3. **Q3:** Are certain car colors more frequently associated with accident reports?  \n",
    "4. **Q4:** Do economy cars tend to have more owners than higher-end cars over the years?"
   ]
  },
  {
   "cell_type": "markdown",
   "id": "bb8c664a",
   "metadata": {},
   "source": [
    "Imports & Load Data"
   ]
  },
  {
   "cell_type": "code",
   "execution_count": 47,
   "id": "0bb9fff7",
   "metadata": {},
   "outputs": [
    {
     "data": {
      "text/html": [
       "<div>\n",
       "<style scoped>\n",
       "    .dataframe tbody tr th:only-of-type {\n",
       "        vertical-align: middle;\n",
       "    }\n",
       "\n",
       "    .dataframe tbody tr th {\n",
       "        vertical-align: top;\n",
       "    }\n",
       "\n",
       "    .dataframe thead th {\n",
       "        text-align: right;\n",
       "    }\n",
       "</style>\n",
       "<table border=\"1\" class=\"dataframe\">\n",
       "  <thead>\n",
       "    <tr style=\"text-align: right;\">\n",
       "      <th></th>\n",
       "      <th>RowNumber</th>\n",
       "      <th>make_year</th>\n",
       "      <th>mileage_kmpl</th>\n",
       "      <th>engine_cc</th>\n",
       "      <th>fuel_type</th>\n",
       "      <th>owner_count</th>\n",
       "      <th>price_usd</th>\n",
       "      <th>brand</th>\n",
       "      <th>transmission</th>\n",
       "      <th>color</th>\n",
       "      <th>service_history</th>\n",
       "      <th>accidents_reported</th>\n",
       "      <th>insurance_valid</th>\n",
       "    </tr>\n",
       "  </thead>\n",
       "  <tbody>\n",
       "    <tr>\n",
       "      <th>0</th>\n",
       "      <td>1</td>\n",
       "      <td>2001</td>\n",
       "      <td>8.17</td>\n",
       "      <td>4000</td>\n",
       "      <td>Petrol</td>\n",
       "      <td>4</td>\n",
       "      <td>8587.64</td>\n",
       "      <td>Chevrolet</td>\n",
       "      <td>Manual</td>\n",
       "      <td>White</td>\n",
       "      <td>NaN</td>\n",
       "      <td>0</td>\n",
       "      <td>No</td>\n",
       "    </tr>\n",
       "    <tr>\n",
       "      <th>1</th>\n",
       "      <td>2</td>\n",
       "      <td>2014</td>\n",
       "      <td>17.59</td>\n",
       "      <td>1500</td>\n",
       "      <td>Petrol</td>\n",
       "      <td>4</td>\n",
       "      <td>5943.50</td>\n",
       "      <td>Honda</td>\n",
       "      <td>Manual</td>\n",
       "      <td>Black</td>\n",
       "      <td>NaN</td>\n",
       "      <td>0</td>\n",
       "      <td>Yes</td>\n",
       "    </tr>\n",
       "    <tr>\n",
       "      <th>2</th>\n",
       "      <td>3</td>\n",
       "      <td>2023</td>\n",
       "      <td>18.09</td>\n",
       "      <td>2500</td>\n",
       "      <td>Diesel</td>\n",
       "      <td>5</td>\n",
       "      <td>9273.58</td>\n",
       "      <td>BMW</td>\n",
       "      <td>Automatic</td>\n",
       "      <td>Black</td>\n",
       "      <td>Full</td>\n",
       "      <td>1</td>\n",
       "      <td>Yes</td>\n",
       "    </tr>\n",
       "    <tr>\n",
       "      <th>3</th>\n",
       "      <td>4</td>\n",
       "      <td>2009</td>\n",
       "      <td>11.28</td>\n",
       "      <td>800</td>\n",
       "      <td>Petrol</td>\n",
       "      <td>1</td>\n",
       "      <td>6836.24</td>\n",
       "      <td>Hyundai</td>\n",
       "      <td>Manual</td>\n",
       "      <td>Blue</td>\n",
       "      <td>Full</td>\n",
       "      <td>0</td>\n",
       "      <td>Yes</td>\n",
       "    </tr>\n",
       "    <tr>\n",
       "      <th>4</th>\n",
       "      <td>5</td>\n",
       "      <td>2005</td>\n",
       "      <td>12.23</td>\n",
       "      <td>1000</td>\n",
       "      <td>Petrol</td>\n",
       "      <td>2</td>\n",
       "      <td>4625.79</td>\n",
       "      <td>Nissan</td>\n",
       "      <td>Automatic</td>\n",
       "      <td>Red</td>\n",
       "      <td>Full</td>\n",
       "      <td>0</td>\n",
       "      <td>Yes</td>\n",
       "    </tr>\n",
       "    <tr>\n",
       "      <th>...</th>\n",
       "      <td>...</td>\n",
       "      <td>...</td>\n",
       "      <td>...</td>\n",
       "      <td>...</td>\n",
       "      <td>...</td>\n",
       "      <td>...</td>\n",
       "      <td>...</td>\n",
       "      <td>...</td>\n",
       "      <td>...</td>\n",
       "      <td>...</td>\n",
       "      <td>...</td>\n",
       "      <td>...</td>\n",
       "      <td>...</td>\n",
       "    </tr>\n",
       "    <tr>\n",
       "      <th>9995</th>\n",
       "      <td>9996</td>\n",
       "      <td>1996</td>\n",
       "      <td>15.25</td>\n",
       "      <td>1500</td>\n",
       "      <td>Petrol</td>\n",
       "      <td>2</td>\n",
       "      <td>5498.71</td>\n",
       "      <td>Hyundai</td>\n",
       "      <td>Manual</td>\n",
       "      <td>Silver</td>\n",
       "      <td>NaN</td>\n",
       "      <td>0</td>\n",
       "      <td>Yes</td>\n",
       "    </tr>\n",
       "    <tr>\n",
       "      <th>9996</th>\n",
       "      <td>9997</td>\n",
       "      <td>1997</td>\n",
       "      <td>14.45</td>\n",
       "      <td>5000</td>\n",
       "      <td>Diesel</td>\n",
       "      <td>1</td>\n",
       "      <td>9588.31</td>\n",
       "      <td>Honda</td>\n",
       "      <td>Manual</td>\n",
       "      <td>Gray</td>\n",
       "      <td>Full</td>\n",
       "      <td>0</td>\n",
       "      <td>Yes</td>\n",
       "    </tr>\n",
       "    <tr>\n",
       "      <th>9997</th>\n",
       "      <td>9998</td>\n",
       "      <td>2002</td>\n",
       "      <td>19.41</td>\n",
       "      <td>1000</td>\n",
       "      <td>Diesel</td>\n",
       "      <td>4</td>\n",
       "      <td>4557.10</td>\n",
       "      <td>Kia</td>\n",
       "      <td>Manual</td>\n",
       "      <td>Black</td>\n",
       "      <td>Full</td>\n",
       "      <td>0</td>\n",
       "      <td>Yes</td>\n",
       "    </tr>\n",
       "    <tr>\n",
       "      <th>9998</th>\n",
       "      <td>9999</td>\n",
       "      <td>2005</td>\n",
       "      <td>12.95</td>\n",
       "      <td>4000</td>\n",
       "      <td>Petrol</td>\n",
       "      <td>5</td>\n",
       "      <td>7413.59</td>\n",
       "      <td>BMW</td>\n",
       "      <td>Automatic</td>\n",
       "      <td>Blue</td>\n",
       "      <td>Full</td>\n",
       "      <td>0</td>\n",
       "      <td>Yes</td>\n",
       "    </tr>\n",
       "    <tr>\n",
       "      <th>9999</th>\n",
       "      <td>10000</td>\n",
       "      <td>2007</td>\n",
       "      <td>18.81</td>\n",
       "      <td>5000</td>\n",
       "      <td>Petrol</td>\n",
       "      <td>1</td>\n",
       "      <td>11634.09</td>\n",
       "      <td>BMW</td>\n",
       "      <td>Automatic</td>\n",
       "      <td>Silver</td>\n",
       "      <td>Full</td>\n",
       "      <td>0</td>\n",
       "      <td>Yes</td>\n",
       "    </tr>\n",
       "  </tbody>\n",
       "</table>\n",
       "<p>10000 rows × 13 columns</p>\n",
       "</div>"
      ],
      "text/plain": [
       "      RowNumber  make_year  mileage_kmpl  engine_cc fuel_type  owner_count  \\\n",
       "0             1       2001          8.17       4000    Petrol            4   \n",
       "1             2       2014         17.59       1500    Petrol            4   \n",
       "2             3       2023         18.09       2500    Diesel            5   \n",
       "3             4       2009         11.28        800    Petrol            1   \n",
       "4             5       2005         12.23       1000    Petrol            2   \n",
       "...         ...        ...           ...        ...       ...          ...   \n",
       "9995       9996       1996         15.25       1500    Petrol            2   \n",
       "9996       9997       1997         14.45       5000    Diesel            1   \n",
       "9997       9998       2002         19.41       1000    Diesel            4   \n",
       "9998       9999       2005         12.95       4000    Petrol            5   \n",
       "9999      10000       2007         18.81       5000    Petrol            1   \n",
       "\n",
       "      price_usd      brand transmission   color service_history  \\\n",
       "0       8587.64  Chevrolet       Manual   White             NaN   \n",
       "1       5943.50      Honda       Manual   Black             NaN   \n",
       "2       9273.58        BMW    Automatic   Black            Full   \n",
       "3       6836.24    Hyundai       Manual    Blue            Full   \n",
       "4       4625.79     Nissan    Automatic     Red            Full   \n",
       "...         ...        ...          ...     ...             ...   \n",
       "9995    5498.71    Hyundai       Manual  Silver             NaN   \n",
       "9996    9588.31      Honda       Manual    Gray            Full   \n",
       "9997    4557.10        Kia       Manual   Black            Full   \n",
       "9998    7413.59        BMW    Automatic    Blue            Full   \n",
       "9999   11634.09        BMW    Automatic  Silver            Full   \n",
       "\n",
       "      accidents_reported insurance_valid  \n",
       "0                      0              No  \n",
       "1                      0             Yes  \n",
       "2                      1             Yes  \n",
       "3                      0             Yes  \n",
       "4                      0             Yes  \n",
       "...                  ...             ...  \n",
       "9995                   0             Yes  \n",
       "9996                   0             Yes  \n",
       "9997                   0             Yes  \n",
       "9998                   0             Yes  \n",
       "9999                   0             Yes  \n",
       "\n",
       "[10000 rows x 13 columns]"
      ]
     },
     "metadata": {},
     "output_type": "display_data"
    }
   ],
   "source": [
    "import pandas as pd\n",
    "import matplotlib.pyplot as plt\n",
    "import seaborn as sns\n",
    "from scipy.stats import f_oneway, linregress, chi2_contingency\n",
    "from sklearn.model_selection import train_test_split\n",
    "from sklearn.ensemble import RandomForestClassifier\n",
    "from xgboost import XGBClassifier\n",
    "from sklearn.metrics import (\n",
    "    accuracy_score, precision_score, recall_score, f1_score,\n",
    "    classification_report, ConfusionMatrixDisplay\n",
    ")\n",
    "# Load the dataset\n",
    "df = pd.read_csv('used_car_price_dataset_extended.csv')\n",
    "display(df)\n"
   ]
  },
  {
   "cell_type": "markdown",
   "id": "d1389ee4",
   "metadata": {},
   "source": [
    "Inspect & Clean"
   ]
  },
  {
   "cell_type": "code",
   "execution_count": 48,
   "id": "0a33e156",
   "metadata": {},
   "outputs": [
    {
     "name": "stdout",
     "output_type": "stream",
     "text": [
      "Missing values per column:\n",
      " RowNumber                0\n",
      "make_year                0\n",
      "mileage_kmpl             0\n",
      "engine_cc                0\n",
      "fuel_type                0\n",
      "owner_count              0\n",
      "price_usd                0\n",
      "brand                    0\n",
      "transmission             0\n",
      "color                    0\n",
      "service_history       2038\n",
      "accidents_reported       0\n",
      "insurance_valid          0\n",
      "dtype: int64\n",
      "Rows after deduplication: 10000\n"
     ]
    }
   ],
   "source": [
    "# Missing values\n",
    "print(\"Missing values per column:\\n\", df.isnull().sum())\n",
    "\n",
    "# Normalize service_history values (handle missing/blank as 'None')\n",
    "df['service_history'] = df['service_history'].fillna('None')                   # Replace NaN\n",
    "df['service_history'] = df['service_history'].replace(['', 'nan', 'NaN'], 'None')  # Replace empty strings\n",
    "df['service_history'] = df['service_history'].str.strip().str.title()         # Standardize casing\n",
    "\n",
    "# Drop exact duplicates\n",
    "df.drop_duplicates(inplace=True)\n",
    "print(f\"Rows after deduplication: {len(df)}\")"
   ]
  },
  {
   "cell_type": "markdown",
   "id": "1190b8a6",
   "metadata": {},
   "source": [
    "Show Raw Data"
   ]
  },
  {
   "cell_type": "code",
   "execution_count": 49,
   "id": "e3881ff1",
   "metadata": {},
   "outputs": [
    {
     "data": {
      "text/html": [
       "<div>\n",
       "<style scoped>\n",
       "    .dataframe tbody tr th:only-of-type {\n",
       "        vertical-align: middle;\n",
       "    }\n",
       "\n",
       "    .dataframe tbody tr th {\n",
       "        vertical-align: top;\n",
       "    }\n",
       "\n",
       "    .dataframe thead th {\n",
       "        text-align: right;\n",
       "    }\n",
       "</style>\n",
       "<table border=\"1\" class=\"dataframe\">\n",
       "  <thead>\n",
       "    <tr style=\"text-align: right;\">\n",
       "      <th></th>\n",
       "      <th>0</th>\n",
       "      <th>1</th>\n",
       "      <th>2</th>\n",
       "      <th>3</th>\n",
       "      <th>4</th>\n",
       "    </tr>\n",
       "  </thead>\n",
       "  <tbody>\n",
       "    <tr>\n",
       "      <th>RowNumber</th>\n",
       "      <td>1</td>\n",
       "      <td>2</td>\n",
       "      <td>3</td>\n",
       "      <td>4</td>\n",
       "      <td>5</td>\n",
       "    </tr>\n",
       "    <tr>\n",
       "      <th>make_year</th>\n",
       "      <td>2001</td>\n",
       "      <td>2014</td>\n",
       "      <td>2023</td>\n",
       "      <td>2009</td>\n",
       "      <td>2005</td>\n",
       "    </tr>\n",
       "    <tr>\n",
       "      <th>mileage_kmpl</th>\n",
       "      <td>8.17</td>\n",
       "      <td>17.59</td>\n",
       "      <td>18.09</td>\n",
       "      <td>11.28</td>\n",
       "      <td>12.23</td>\n",
       "    </tr>\n",
       "    <tr>\n",
       "      <th>engine_cc</th>\n",
       "      <td>4000</td>\n",
       "      <td>1500</td>\n",
       "      <td>2500</td>\n",
       "      <td>800</td>\n",
       "      <td>1000</td>\n",
       "    </tr>\n",
       "    <tr>\n",
       "      <th>fuel_type</th>\n",
       "      <td>Petrol</td>\n",
       "      <td>Petrol</td>\n",
       "      <td>Diesel</td>\n",
       "      <td>Petrol</td>\n",
       "      <td>Petrol</td>\n",
       "    </tr>\n",
       "    <tr>\n",
       "      <th>owner_count</th>\n",
       "      <td>4</td>\n",
       "      <td>4</td>\n",
       "      <td>5</td>\n",
       "      <td>1</td>\n",
       "      <td>2</td>\n",
       "    </tr>\n",
       "    <tr>\n",
       "      <th>price_usd</th>\n",
       "      <td>8587.64</td>\n",
       "      <td>5943.5</td>\n",
       "      <td>9273.58</td>\n",
       "      <td>6836.24</td>\n",
       "      <td>4625.79</td>\n",
       "    </tr>\n",
       "    <tr>\n",
       "      <th>brand</th>\n",
       "      <td>Chevrolet</td>\n",
       "      <td>Honda</td>\n",
       "      <td>BMW</td>\n",
       "      <td>Hyundai</td>\n",
       "      <td>Nissan</td>\n",
       "    </tr>\n",
       "    <tr>\n",
       "      <th>transmission</th>\n",
       "      <td>Manual</td>\n",
       "      <td>Manual</td>\n",
       "      <td>Automatic</td>\n",
       "      <td>Manual</td>\n",
       "      <td>Automatic</td>\n",
       "    </tr>\n",
       "    <tr>\n",
       "      <th>color</th>\n",
       "      <td>White</td>\n",
       "      <td>Black</td>\n",
       "      <td>Black</td>\n",
       "      <td>Blue</td>\n",
       "      <td>Red</td>\n",
       "    </tr>\n",
       "    <tr>\n",
       "      <th>service_history</th>\n",
       "      <td>None</td>\n",
       "      <td>None</td>\n",
       "      <td>Full</td>\n",
       "      <td>Full</td>\n",
       "      <td>Full</td>\n",
       "    </tr>\n",
       "    <tr>\n",
       "      <th>accidents_reported</th>\n",
       "      <td>0</td>\n",
       "      <td>0</td>\n",
       "      <td>1</td>\n",
       "      <td>0</td>\n",
       "      <td>0</td>\n",
       "    </tr>\n",
       "    <tr>\n",
       "      <th>insurance_valid</th>\n",
       "      <td>No</td>\n",
       "      <td>Yes</td>\n",
       "      <td>Yes</td>\n",
       "      <td>Yes</td>\n",
       "      <td>Yes</td>\n",
       "    </tr>\n",
       "  </tbody>\n",
       "</table>\n",
       "</div>"
      ],
      "text/plain": [
       "                            0       1          2        3          4\n",
       "RowNumber                   1       2          3        4          5\n",
       "make_year                2001    2014       2023     2009       2005\n",
       "mileage_kmpl             8.17   17.59      18.09    11.28      12.23\n",
       "engine_cc                4000    1500       2500      800       1000\n",
       "fuel_type              Petrol  Petrol     Diesel   Petrol     Petrol\n",
       "owner_count                 4       4          5        1          2\n",
       "price_usd             8587.64  5943.5    9273.58  6836.24    4625.79\n",
       "brand               Chevrolet   Honda        BMW  Hyundai     Nissan\n",
       "transmission           Manual  Manual  Automatic   Manual  Automatic\n",
       "color                   White   Black      Black     Blue        Red\n",
       "service_history          None    None       Full     Full       Full\n",
       "accidents_reported          0       0          1        0          0\n",
       "insurance_valid            No     Yes        Yes      Yes        Yes"
      ]
     },
     "metadata": {},
     "output_type": "display_data"
    },
    {
     "name": "stdout",
     "output_type": "stream",
     "text": [
      "Number of rows: 10000\n",
      "Number of columns: 13\n"
     ]
    }
   ],
   "source": [
    "display(df.head().transpose())\n",
    "\n",
    "num_rows, num_columns = df.shape\n",
    "print(f\"Number of rows: {num_rows}\")\n",
    "print(f\"Number of columns: {num_columns}\")"
   ]
  },
  {
   "cell_type": "markdown",
   "id": "89f4b0ca",
   "metadata": {},
   "source": [
    "Summary Stats"
   ]
  },
  {
   "cell_type": "code",
   "execution_count": 50,
   "id": "0515421e",
   "metadata": {},
   "outputs": [
    {
     "data": {
      "text/html": [
       "<div>\n",
       "<style scoped>\n",
       "    .dataframe tbody tr th:only-of-type {\n",
       "        vertical-align: middle;\n",
       "    }\n",
       "\n",
       "    .dataframe tbody tr th {\n",
       "        vertical-align: top;\n",
       "    }\n",
       "\n",
       "    .dataframe thead th {\n",
       "        text-align: right;\n",
       "    }\n",
       "</style>\n",
       "<table border=\"1\" class=\"dataframe\">\n",
       "  <thead>\n",
       "    <tr style=\"text-align: right;\">\n",
       "      <th></th>\n",
       "      <th>count</th>\n",
       "      <th>mean</th>\n",
       "      <th>std</th>\n",
       "      <th>min</th>\n",
       "      <th>25%</th>\n",
       "      <th>50%</th>\n",
       "      <th>75%</th>\n",
       "      <th>max</th>\n",
       "    </tr>\n",
       "  </thead>\n",
       "  <tbody>\n",
       "    <tr>\n",
       "      <th>RowNumber</th>\n",
       "      <td>10000.0</td>\n",
       "      <td>5000.500000</td>\n",
       "      <td>2886.895680</td>\n",
       "      <td>1.0</td>\n",
       "      <td>2500.7500</td>\n",
       "      <td>5000.50</td>\n",
       "      <td>7500.2500</td>\n",
       "      <td>10000.00</td>\n",
       "    </tr>\n",
       "    <tr>\n",
       "      <th>make_year</th>\n",
       "      <td>10000.0</td>\n",
       "      <td>2009.206900</td>\n",
       "      <td>8.373858</td>\n",
       "      <td>1995.0</td>\n",
       "      <td>2002.0000</td>\n",
       "      <td>2009.00</td>\n",
       "      <td>2016.0000</td>\n",
       "      <td>2023.00</td>\n",
       "    </tr>\n",
       "    <tr>\n",
       "      <th>mileage_kmpl</th>\n",
       "      <td>10000.0</td>\n",
       "      <td>17.960753</td>\n",
       "      <td>5.025486</td>\n",
       "      <td>5.0</td>\n",
       "      <td>14.5400</td>\n",
       "      <td>17.97</td>\n",
       "      <td>21.3525</td>\n",
       "      <td>35.00</td>\n",
       "    </tr>\n",
       "    <tr>\n",
       "      <th>engine_cc</th>\n",
       "      <td>10000.0</td>\n",
       "      <td>2287.130000</td>\n",
       "      <td>1291.276927</td>\n",
       "      <td>800.0</td>\n",
       "      <td>1200.0000</td>\n",
       "      <td>1800.00</td>\n",
       "      <td>3000.0000</td>\n",
       "      <td>5000.00</td>\n",
       "    </tr>\n",
       "    <tr>\n",
       "      <th>owner_count</th>\n",
       "      <td>10000.0</td>\n",
       "      <td>3.003500</td>\n",
       "      <td>1.418904</td>\n",
       "      <td>1.0</td>\n",
       "      <td>2.0000</td>\n",
       "      <td>3.00</td>\n",
       "      <td>4.0000</td>\n",
       "      <td>5.00</td>\n",
       "    </tr>\n",
       "    <tr>\n",
       "      <th>price_usd</th>\n",
       "      <td>10000.0</td>\n",
       "      <td>7179.754532</td>\n",
       "      <td>2795.270940</td>\n",
       "      <td>1000.0</td>\n",
       "      <td>5176.5475</td>\n",
       "      <td>6961.26</td>\n",
       "      <td>8993.7325</td>\n",
       "      <td>17647.63</td>\n",
       "    </tr>\n",
       "    <tr>\n",
       "      <th>accidents_reported</th>\n",
       "      <td>10000.0</td>\n",
       "      <td>0.492200</td>\n",
       "      <td>0.694109</td>\n",
       "      <td>0.0</td>\n",
       "      <td>0.0000</td>\n",
       "      <td>0.00</td>\n",
       "      <td>1.0000</td>\n",
       "      <td>5.00</td>\n",
       "    </tr>\n",
       "  </tbody>\n",
       "</table>\n",
       "</div>"
      ],
      "text/plain": [
       "                      count         mean          std     min        25%  \\\n",
       "RowNumber           10000.0  5000.500000  2886.895680     1.0  2500.7500   \n",
       "make_year           10000.0  2009.206900     8.373858  1995.0  2002.0000   \n",
       "mileage_kmpl        10000.0    17.960753     5.025486     5.0    14.5400   \n",
       "engine_cc           10000.0  2287.130000  1291.276927   800.0  1200.0000   \n",
       "owner_count         10000.0     3.003500     1.418904     1.0     2.0000   \n",
       "price_usd           10000.0  7179.754532  2795.270940  1000.0  5176.5475   \n",
       "accidents_reported  10000.0     0.492200     0.694109     0.0     0.0000   \n",
       "\n",
       "                        50%        75%       max  \n",
       "RowNumber           5000.50  7500.2500  10000.00  \n",
       "make_year           2009.00  2016.0000   2023.00  \n",
       "mileage_kmpl          17.97    21.3525     35.00  \n",
       "engine_cc           1800.00  3000.0000   5000.00  \n",
       "owner_count            3.00     4.0000      5.00  \n",
       "price_usd           6961.26  8993.7325  17647.63  \n",
       "accidents_reported     0.00     1.0000      5.00  "
      ]
     },
     "metadata": {},
     "output_type": "display_data"
    }
   ],
   "source": [
    "summary_stats = df.describe().transpose()\n",
    "display(summary_stats)"
   ]
  },
  {
   "cell_type": "markdown",
   "id": "e5388b1f",
   "metadata": {},
   "source": [
    "# Question 1 : How do service history and mileage efficiency affect used car prices?"
   ]
  },
  {
   "cell_type": "markdown",
   "id": "8f703d97",
   "metadata": {},
   "source": [
    "# 🔧 Data Pre-processing / Cleaning"
   ]
  },
  {
   "cell_type": "code",
   "execution_count": 51,
   "id": "09fffbb7",
   "metadata": {},
   "outputs": [
    {
     "data": {
      "text/plain": [
       "service_history\n",
       "Full       4987\n",
       "Partial    2975\n",
       "None       2038\n",
       "Name: count, dtype: int64"
      ]
     },
     "execution_count": 51,
     "metadata": {},
     "output_type": "execute_result"
    }
   ],
   "source": [
    "# Keep all service history values including 'None'\n",
    "df_q1 = df[['price_usd', 'service_history', 'mileage_kmpl']].dropna()\n",
    "df_q1['service_history'] = df_q1['service_history'].str.strip().str.title()\n",
    "\n",
    "# Bin mileage into Low, Medium, High\n",
    "df_q1['mileage_group'] = pd.qcut(df_q1['mileage_kmpl'], q=3, labels=['Low', 'Medium', 'High'])\n",
    "\n",
    "# Group by service history (including None) and mileage group\n",
    "avg_price_grouped = df_q1.groupby(['service_history', 'mileage_group'], observed=True)['price_usd'].mean().unstack()\n",
    "\n",
    "df['service_history'].value_counts()\n"
   ]
  },
  {
   "cell_type": "markdown",
   "id": "2b81d8eb",
   "metadata": {},
   "source": [
    "# 📊 Data Analysis / Statistical Study"
   ]
  },
  {
   "cell_type": "code",
   "execution_count": 52,
   "id": "9673e02a",
   "metadata": {},
   "outputs": [
    {
     "data": {
      "image/png": "[encoded data removed]",
      "text/plain": [
       "<Figure size 800x500 with 1 Axes>"
      ]
     },
     "metadata": {},
     "output_type": "display_data"
    }
   ],
   "source": [
    "custom_colors = ['#4C72B0', '#DD8452', '#55A868']  # blue, orange, green\n",
    "\n",
    "ax = avg_price_grouped.plot(kind='bar', figsize=(8, 5), color=custom_colors)\n",
    "plt.title(\"Q1: Avg Price by Service History & Mileage Group\")\n",
    "plt.xlabel(\"Service History\")\n",
    "plt.ylabel(\"Average Price (USD)\")\n",
    "plt.legend(title='Mileage (km/l)')\n",
    "plt.tight_layout()\n",
    "plt.show()"
   ]
  },
  {
   "cell_type": "markdown",
   "id": "1d85bf4b",
   "metadata": {},
   "source": [
    "# Question 2 : How can manufacturers or resellers adapt to the trend of engine sizes in recent years to better match consumer demand?"
   ]
  },
  {
   "cell_type": "markdown",
   "id": "39423e60",
   "metadata": {},
   "source": [
    "# 🔧 Data Pre-processing / Cleaning"
   ]
  },
  {
   "cell_type": "code",
   "execution_count": 53,
   "id": "bf61df24",
   "metadata": {},
   "outputs": [],
   "source": [
    "df_q2 = df[['make_year','engine_cc']].dropna()\n",
    "df_q2['make_year'] = df_q2['make_year'].astype(int)"
   ]
  },
  {
   "cell_type": "markdown",
   "id": "cd10a7a9",
   "metadata": {},
   "source": [
    "# 📊 Data Analysis / Statistical Study"
   ]
  },
  {
   "cell_type": "code",
   "execution_count": 54,
   "id": "85f1fcc1",
   "metadata": {},
   "outputs": [
    {
     "data": {
      "image/png": "[encoded data removed]",
      "text/plain": [
       "<Figure size 600x400 with 1 Axes>"
      ]
     },
     "metadata": {},
     "output_type": "display_data"
    }
   ],
   "source": [
    "trend = df_q2.groupby('make_year')['engine_cc'].mean()\n",
    "plt.figure(figsize=(6,4))\n",
    "sns.lineplot(x=trend.index, y=trend.values, marker='o')\n",
    "plt.title(\"Q2: Avg Engine Capacity by Year\")\n",
    "plt.xlabel(\"Make Year\")\n",
    "plt.ylabel(\"Average Engine CC\")\n",
    "plt.grid(True)\n",
    "plt.tight_layout()\n",
    "plt.show()"
   ]
  },
  {
   "cell_type": "markdown",
   "id": "b39b98c9",
   "metadata": {},
   "source": [
    "# Question 3 : Are certain car colors more frequently associated with accident reports?"
   ]
  },
  {
   "cell_type": "markdown",
   "id": "a1c05d6e",
   "metadata": {},
   "source": [
    "# 🔧 Data Pre-processing / Cleaning"
   ]
  },
  {
   "cell_type": "code",
   "execution_count": 55,
   "id": "1029e0da",
   "metadata": {},
   "outputs": [],
   "source": [
    "df_q3 = df[['color','accidents_reported','brand','make_year','transmission']].dropna()\n",
    "df_q3['color']      = df_q3['color'].str.strip().str.title()\n",
    "df_q3['has_accident']= (df_q3['accidents_reported'] > 0).astype(int)"
   ]
  },
  {
   "cell_type": "markdown",
   "id": "8a8e7426",
   "metadata": {},
   "source": [
    "# 📊 Data Analysis / Statistical Study"
   ]
  },
  {
   "cell_type": "code",
   "execution_count": 56,
   "id": "f82f1686",
   "metadata": {},
   "outputs": [
    {
     "data": {
      "image/png": "[encoded data removed]",
      "text/plain": [
       "<Figure size 600x400 with 1 Axes>"
      ]
     },
     "metadata": {},
     "output_type": "display_data"
    }
   ],
   "source": [
    "avg_acc_by_color = df_q3.groupby('color')['accidents_reported'].mean().sort_values(ascending=False)\n",
    "plt.figure(figsize=(6,4))\n",
    "sns.barplot(x=avg_acc_by_color.values, y=avg_acc_by_color.index)\n",
    "plt.title(\"Q3: Avg Accidents by Color\")\n",
    "plt.xlabel(\"Average # of Accidents\")\n",
    "plt.ylabel(\"Car Color\")\n",
    "plt.tight_layout()\n",
    "plt.show()"
   ]
  },
  {
   "cell_type": "markdown",
   "id": "a2b08c9d",
   "metadata": {},
   "source": [
    "# Question 4 : Do economy cars tend to have more owners than higher-end cars over the years?"
   ]
  },
  {
   "cell_type": "markdown",
   "id": "a4615ba3",
   "metadata": {},
   "source": [
    "# 🔧 Data Pre-processing / Cleaning"
   ]
  },
  {
   "cell_type": "code",
   "execution_count": 57,
   "id": "1fffbe08",
   "metadata": {},
   "outputs": [],
   "source": [
    "economy = ['Toyota','Honda','Hyundai','Nissan','Kia']\n",
    "luxury  = ['Bmw','Mercedes-Benz','Audi','Lexus','Porsche']\n",
    "df_q4 = df[['make_year','owner_count','brand']].dropna()\n",
    "df_q4['brand'] = df_q4['brand'].str.strip().str.title()\n",
    "df_q4['category'] = df_q4['brand'].apply(\n",
    "    lambda b: 'Economy' if b in economy else ('High-End' if b in luxury else 'Other')\n",
    ")\n",
    "df_q4 = df_q4[df_q4['category'].isin(['Economy','High-End'])]"
   ]
  },
  {
   "cell_type": "markdown",
   "id": "ea80fb36",
   "metadata": {},
   "source": [
    "# 📊 Data Analysis / Statistical Study"
   ]
  },
  {
   "cell_type": "code",
   "execution_count": 58,
   "id": "6b5737b3",
   "metadata": {},
   "outputs": [
    {
     "data": {
      "image/png": "[encoded data removed]",
      "text/plain": [
       "<Figure size 1000x500 with 1 Axes>"
      ]
     },
     "metadata": {},
     "output_type": "display_data"
    }
   ],
   "source": [
    "# Create boxplot with custom colors\n",
    "plt.figure(figsize=(10, 5))\n",
    "sns.set_style(\"whitegrid\")\n",
    "palette = {\"Economy\": \"#ADD8E6\", \"High-End\": \"#FFA07A\"}\n",
    "sns.boxplot(data=df_q4, x='make_year', y='owner_count', hue='category', palette=palette, showfliers=False)\n",
    "\n",
    "plt.title(\"Q4: Owner Count by Year & Brand Category\")\n",
    "plt.xlabel(\"Make Year\")\n",
    "plt.ylabel(\"Owner Count\")\n",
    "plt.xticks(rotation=45)\n",
    "plt.legend(title='Category')\n",
    "plt.tight_layout()\n",
    "plt.show()\n"
   ]
  },
  {
   "cell_type": "markdown",
   "id": "1c75cfb0",
   "metadata": {},
   "source": [
    "# Modelling"
   ]
  },
  {
   "cell_type": "markdown",
   "id": "70a783a2",
   "metadata": {},
   "source": [
    "## 🔧 Modeling\n",
    "This section includes training a Random Forest Regressor to predict the price of used cars based on features such as brand, mileage, and engine size."
   ]
  },
  {
   "cell_type": "code",
   "execution_count": 59,
   "id": "6d53b9b5",
   "metadata": {},
   "outputs": [],
   "source": [
    "from sklearn.model_selection import train_test_split\n",
    "from sklearn.ensemble import RandomForestRegressor\n",
    "from sklearn.metrics import mean_squared_error, r2_score\n",
    "from sklearn.preprocessing import LabelEncoder\n",
    "\n",
    "# Prepare data\n",
    "df_model = df.copy()\n",
    "target = \"price_usd\"\n",
    "drop_cols = ['RowNumber']\n",
    "df_model.drop(columns=drop_cols, inplace=True)\n",
    "\n",
    "# Encode categorical features\n",
    "categorical_cols = df_model.select_dtypes(include='object').columns\n",
    "label_encoders = {}\n",
    "for col in categorical_cols:\n",
    "    le = LabelEncoder()\n",
    "    df_model[col] = le.fit_transform(df_model[col])\n",
    "    label_encoders[col] = le\n",
    "\n",
    "# Split dataset\n",
    "X = df_model.drop(columns=[target])\n",
    "y = df_model[target]\n",
    "X_train, X_test, y_train, y_test = train_test_split(X, y, test_size=0.2, random_state=42)"
   ]
  },
  {
   "cell_type": "markdown",
   "id": "2ade9baf",
   "metadata": {},
   "source": [
    "## 📈 Evaluation\n",
    "We evaluate the model's performance using Mean Squared Error (MSE) and R² Score to assess its prediction accuracy."
   ]
  },
  {
   "cell_type": "code",
   "execution_count": 60,
   "id": "0343194f",
   "metadata": {},
   "outputs": [
    {
     "name": "stdout",
     "output_type": "stream",
     "text": [
      "Mean Squared Error: 1486082.94\n",
      "R² Score: 0.8132\n"
     ]
    }
   ],
   "source": [
    "# Train model\n",
    "rf = RandomForestRegressor(n_estimators=100, random_state=42)\n",
    "rf.fit(X_train, y_train)\n",
    "\n",
    "# Predict and evaluate\n",
    "y_pred = rf.predict(X_test)\n",
    "mse = mean_squared_error(y_test, y_pred)\n",
    "r2 = r2_score(y_test, y_pred)\n",
    "\n",
    "print(f\"Mean Squared Error: {mse:.2f}\")\n",
    "print(f\"R² Score: {r2:.4f}\")"
   ]
  },
  {
   "cell_type": "code",
   "execution_count": 61,
   "id": "adc0c1ca",
   "metadata": {},
   "outputs": [
    {
     "data": {
      "text/html": [
       "<div>\n",
       "<style scoped>\n",
       "    .dataframe tbody tr th:only-of-type {\n",
       "        vertical-align: middle;\n",
       "    }\n",
       "\n",
       "    .dataframe tbody tr th {\n",
       "        vertical-align: top;\n",
       "    }\n",
       "\n",
       "    .dataframe thead th {\n",
       "        text-align: right;\n",
       "    }\n",
       "</style>\n",
       "<table border=\"1\" class=\"dataframe\">\n",
       "  <thead>\n",
       "    <tr style=\"text-align: right;\">\n",
       "      <th></th>\n",
       "      <th>F1_Mean</th>\n",
       "      <th>F1_SD</th>\n",
       "      <th>Test_Accuracy</th>\n",
       "      <th>Test_Precision</th>\n",
       "      <th>Test_Recall</th>\n",
       "      <th>Test_F1</th>\n",
       "    </tr>\n",
       "    <tr>\n",
       "      <th>Model</th>\n",
       "      <th></th>\n",
       "      <th></th>\n",
       "      <th></th>\n",
       "      <th></th>\n",
       "      <th></th>\n",
       "      <th></th>\n",
       "    </tr>\n",
       "  </thead>\n",
       "  <tbody>\n",
       "    <tr>\n",
       "      <th>RandomForest</th>\n",
       "      <td>0.750484</td>\n",
       "      <td>0.005548</td>\n",
       "      <td>0.77</td>\n",
       "      <td>0.771319</td>\n",
       "      <td>0.77268</td>\n",
       "      <td>0.77193</td>\n",
       "    </tr>\n",
       "  </tbody>\n",
       "</table>\n",
       "</div>"
      ],
      "text/plain": [
       "               F1_Mean     F1_SD  Test_Accuracy  Test_Precision  Test_Recall  \\\n",
       "Model                                                                          \n",
       "RandomForest  0.750484  0.005548           0.77        0.771319      0.77268   \n",
       "\n",
       "              Test_F1  \n",
       "Model                  \n",
       "RandomForest  0.77193  "
      ]
     },
     "metadata": {},
     "output_type": "display_data"
    }
   ],
   "source": [
    "from sklearn.model_selection import cross_val_score\n",
    "import numpy as np\n",
    "bins = np.quantile(y_train, [0, 0.33, 0.66, 1.0])\n",
    "labels = ['Low', 'Medium', 'High']\n",
    "\n",
    "y_train_cat = pd.cut(y_train, bins=bins, labels=labels, include_lowest=True)\n",
    "y_test_cat  = pd.cut(y_test,  bins=bins, labels=labels, include_lowest=True)\n",
    "\n",
    "# Train a RandomForestClassifier on the binned labels\n",
    "rf_clf   = RandomForestClassifier(n_estimators=100, random_state=42)\n",
    "cv_scores = cross_val_score(rf_clf, X_train, y_train_cat, cv=5, scoring='f1_macro')\n",
    "f1_mean   = cv_scores.mean()\n",
    "f1_sd     = cv_scores.std()\n",
    "\n",
    "rf_clf.fit(X_train, y_train_cat)\n",
    "y_pred_cat = rf_clf.predict(X_test)\n",
    "\n",
    "# Compute test‐set metrics\n",
    "test_acc  = accuracy_score(y_test_cat, y_pred_cat)\n",
    "test_prec = precision_score(y_test_cat, y_pred_cat, average='macro')\n",
    "test_rec  = recall_score(y_test_cat, y_pred_cat, average='macro')\n",
    "test_f1   = f1_score(y_test_cat, y_pred_cat, average='macro')\n",
    "\n",
    "# Assemble into a DataFrame\n",
    "metrics_df = pd.DataFrame([{\n",
    "    'Model':           'RandomForest',\n",
    "    'F1_Mean':         f1_mean,\n",
    "    'F1_SD':           f1_sd,\n",
    "    'Test_Accuracy':   test_acc,\n",
    "    'Test_Precision':  test_prec,\n",
    "    'Test_Recall':     test_rec,\n",
    "    'Test_F1':         test_f1\n",
    "}])\n",
    "\n",
    "# Display \n",
    "display(metrics_df.set_index('Model'))"
   ]
  },
  {
   "cell_type": "markdown",
   "id": "6d580818",
   "metadata": {},
   "source": [
    "## 📊 Feature Importance Visualization\n",
    "The bar chart below shows which features had the most impact on predicting car prices."
   ]
  },
  {
   "cell_type": "code",
   "execution_count": 62,
   "id": "0993ef6a",
   "metadata": {},
   "outputs": [
    {
     "data": {
      "image/png": "[encoded data removed]",
      "text/plain": [
       "<Figure size 800x500 with 1 Axes>"
      ]
     },
     "metadata": {},
     "output_type": "display_data"
    }
   ],
   "source": [
    "# Feature importance\n",
    "import matplotlib.pyplot as plt\n",
    "import seaborn as sns\n",
    "from sklearn.metrics import confusion_matrix\n",
    "\n",
    "feature_importance = pd.Series(rf.feature_importances_, index=X.columns).sort_values(ascending=False)\n",
    "plt.figure(figsize=(8, 5))\n",
    "sns.barplot(x=feature_importance.values, y=feature_importance.index)\n",
    "plt.title(\"Feature Importance from Random Forest\")\n",
    "plt.xlabel(\"Importance Score\")\n",
    "plt.ylabel(\"Features\")\n",
    "plt.tight_layout()\n",
    "plt.show()"
   ]
  },
  {
   "cell_type": "markdown",
   "id": "8abcffc9",
   "metadata": {},
   "source": [
    "Build & sort the feature-importance DataFrame as before and print as a table"
   ]
  },
  {
   "cell_type": "code",
   "execution_count": 63,
   "id": "7b37f6c4",
   "metadata": {},
   "outputs": [
    {
     "data": {
      "text/html": [
       "<div>\n",
       "<style scoped>\n",
       "    .dataframe tbody tr th:only-of-type {\n",
       "        vertical-align: middle;\n",
       "    }\n",
       "\n",
       "    .dataframe tbody tr th {\n",
       "        vertical-align: top;\n",
       "    }\n",
       "\n",
       "    .dataframe thead th {\n",
       "        text-align: right;\n",
       "    }\n",
       "</style>\n",
       "<table border=\"1\" class=\"dataframe\">\n",
       "  <thead>\n",
       "    <tr style=\"text-align: right;\">\n",
       "      <th></th>\n",
       "      <th>Importance</th>\n",
       "    </tr>\n",
       "    <tr>\n",
       "      <th>Feature</th>\n",
       "      <th></th>\n",
       "    </tr>\n",
       "  </thead>\n",
       "  <tbody>\n",
       "    <tr>\n",
       "      <th>engine_cc</th>\n",
       "      <td>0.466187</td>\n",
       "    </tr>\n",
       "    <tr>\n",
       "      <th>make_year</th>\n",
       "      <td>0.221800</td>\n",
       "    </tr>\n",
       "    <tr>\n",
       "      <th>mileage_kmpl</th>\n",
       "      <td>0.106777</td>\n",
       "    </tr>\n",
       "    <tr>\n",
       "      <th>owner_count</th>\n",
       "      <td>0.071435</td>\n",
       "    </tr>\n",
       "    <tr>\n",
       "      <th>fuel_type</th>\n",
       "      <td>0.056353</td>\n",
       "    </tr>\n",
       "    <tr>\n",
       "      <th>brand</th>\n",
       "      <td>0.026705</td>\n",
       "    </tr>\n",
       "    <tr>\n",
       "      <th>color</th>\n",
       "      <td>0.019675</td>\n",
       "    </tr>\n",
       "    <tr>\n",
       "      <th>service_history</th>\n",
       "      <td>0.010307</td>\n",
       "    </tr>\n",
       "    <tr>\n",
       "      <th>accidents_reported</th>\n",
       "      <td>0.009022</td>\n",
       "    </tr>\n",
       "    <tr>\n",
       "      <th>transmission</th>\n",
       "      <td>0.006051</td>\n",
       "    </tr>\n",
       "    <tr>\n",
       "      <th>insurance_valid</th>\n",
       "      <td>0.005688</td>\n",
       "    </tr>\n",
       "  </tbody>\n",
       "</table>\n",
       "</div>"
      ],
      "text/plain": [
       "                    Importance\n",
       "Feature                       \n",
       "engine_cc             0.466187\n",
       "make_year             0.221800\n",
       "mileage_kmpl          0.106777\n",
       "owner_count           0.071435\n",
       "fuel_type             0.056353\n",
       "brand                 0.026705\n",
       "color                 0.019675\n",
       "service_history       0.010307\n",
       "accidents_reported    0.009022\n",
       "transmission          0.006051\n",
       "insurance_valid       0.005688"
      ]
     },
     "metadata": {},
     "output_type": "display_data"
    }
   ],
   "source": [
    "feature_importances = pd.DataFrame({\n",
    "    'Feature': X_train.columns,\n",
    "    'Importance': rf.feature_importances_\n",
    "})\n",
    "feature_importances = (\n",
    "    feature_importances\n",
    "    .sort_values('Importance', ascending=False)\n",
    "    .reset_index(drop=True)\n",
    ")\n",
    "\n",
    "feature_importances = feature_importances.set_index('Feature')\n",
    "\n",
    "display(feature_importances)"
   ]
  }
 ],
 "metadata": {
  "kernelspec": {
   "display_name": "Python 3",
   "language": "python",
   "name": "python3"
  },
  "language_info": {
   "codemirror_mode": {
    "name": "ipython",
    "version": 3
   },
   "file_extension": ".py",
   "mimetype": "text/x-python",
   "name": "python",
   "nbconvert_exporter": "python",
   "pygments_lexer": "ipython3",
   "version": "3.11.9"
  }
 },
 "nbformat": 4,
 "nbformat_minor": 5
}
