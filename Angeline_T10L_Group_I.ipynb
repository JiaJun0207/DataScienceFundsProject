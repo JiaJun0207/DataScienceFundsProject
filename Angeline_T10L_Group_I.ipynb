{
 "cells": [
  {
   "cell_type": "markdown",
   "id": "ee71abe9",
   "metadata": {},
   "source": [
    "# CDS6214-DATA SCIENCE FUNDAMENTALS Project TT10L Group I"
   ]
  },
  {
   "cell_type": "markdown",
   "id": "cd315cb1",
   "metadata": {},
   "source": [
    "# Transportation Project <br>\n",
    "Title : Used Car Price Prediction"
   ]
  },
  {
   "cell_type": "markdown",
   "id": "222b59e3",
   "metadata": {},
   "source": [
    "# **Sections**\n",
    "1. Data Pre-processing / Cleaning\n",
    "2. Data Analysis/Statistical Study with 4 Question  \n",
    "3. Modelling (5 models: LR, DT, RF, NB, XGBoost)  \n",
    "4. Knowledge Evaluation"
   ]
  }
 ],
 "metadata": {
  "language_info": {
   "name": "python"
  }
 },
 "nbformat": 4,
 "nbformat_minor": 5
}
