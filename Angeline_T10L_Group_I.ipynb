{
 "cells": [
  {
   "cell_type": "markdown",
   "id": "ee71abe9",
   "metadata": {},
   "source": [
    "# CDS6214-DATA SCIENCE FUNDAMENTALS Project TT10L Group I"
   ]
  },
  {
   "cell_type": "markdown",
   "id": "cd315cb1",
   "metadata": {},
   "source": [
    "# Transportation Project <br>\n",
    "Title : Used Car Price Prediction"
   ]
  },
  {
   "cell_type": "markdown",
   "id": "222b59e3",
   "metadata": {},
   "source": []
  }
 ],
 "metadata": {
  "language_info": {
   "name": "python"
  }
 },
 "nbformat": 4,
 "nbformat_minor": 5
}
